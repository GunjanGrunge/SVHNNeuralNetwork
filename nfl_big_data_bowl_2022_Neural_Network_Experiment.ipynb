{
  "nbformat": 4,
  "nbformat_minor": 0,
  "metadata": {
    "accelerator": "GPU",
    "colab": {
      "name": "nfl-big-data-bowl-2022 Neural Network Experiment",
      "provenance": [],
      "collapsed_sections": [],
      "machine_shape": "hm",
      "authorship_tag": "ABX9TyPGaHp/0AINGXXLcXnVPo+1",
      "include_colab_link": true
    },
    "kernelspec": {
      "display_name": "Python 3",
      "name": "python3"
    },
    "language_info": {
      "name": "python"
    }
  },
  "cells": [
    {
      "cell_type": "markdown",
      "metadata": {
        "id": "view-in-github",
        "colab_type": "text"
      },
      "source": [
        "<a href=\"https://colab.research.google.com/github/GunjanGrunge/SVHNNeuralNetwork/blob/main/nfl_big_data_bowl_2022_Neural_Network_Experiment.ipynb\" target=\"_parent\"><img src=\"https://colab.research.google.com/assets/colab-badge.svg\" alt=\"Open In Colab\"/></a>"
      ]
    },
    {
      "cell_type": "code",
      "metadata": {
        "id": "Uxox9Frt-dIg"
      },
      "source": [
        " ! pip install -q kaggle"
      ],
      "execution_count": 1,
      "outputs": []
    },
    {
      "cell_type": "code",
      "metadata": {
        "colab": {
          "resources": {
            "http://localhost:8080/nbextensions/google.colab/files.js": {
              "data": "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",
              "ok": true,
              "headers": [
                [
                  "content-type",
                  "application/javascript"
                ]
              ],
              "status": 200,
              "status_text": ""
            }
          },
          "base_uri": "https://localhost:8080/",
          "height": 93
        },
        "id": "wbjkhbnb-fIB",
        "outputId": "850c0166-b5d5-4ba8-ffd4-7c9eb6c39232"
      },
      "source": [
        " from google.colab import files\n",
        "\n",
        "files.upload()"
      ],
      "execution_count": 2,
      "outputs": [
        {
          "output_type": "display_data",
          "data": {
            "text/html": [
              "\n",
              "     <input type=\"file\" id=\"files-82e0b713-01fd-48cc-9a90-781c2ac408cd\" name=\"files[]\" multiple disabled\n",
              "        style=\"border:none\" />\n",
              "     <output id=\"result-82e0b713-01fd-48cc-9a90-781c2ac408cd\">\n",
              "      Upload widget is only available when the cell has been executed in the\n",
              "      current browser session. Please rerun this cell to enable.\n",
              "      </output>\n",
              "      <script src=\"/nbextensions/google.colab/files.js\"></script> "
            ],
            "text/plain": [
              "<IPython.core.display.HTML object>"
            ]
          },
          "metadata": {}
        },
        {
          "output_type": "stream",
          "name": "stdout",
          "text": [
            "Saving kaggle.json to kaggle.json\n"
          ]
        },
        {
          "output_type": "execute_result",
          "data": {
            "text/plain": [
              "{'kaggle.json': b'{\"username\":\"gunjangrunge\",\"key\":\"12c22c0a1b53b426a15f24413ac11977\"}'}"
            ]
          },
          "metadata": {},
          "execution_count": 2
        }
      ]
    },
    {
      "cell_type": "code",
      "metadata": {
        "id": "ERW_pd1YCwGQ"
      },
      "source": [
        "!mkdir -p ~/.kaggle"
      ],
      "execution_count": 3,
      "outputs": []
    },
    {
      "cell_type": "code",
      "metadata": {
        "id": "d7hro5rzC5_P"
      },
      "source": [
        "!cp kaggle.json ~/.kaggle/"
      ],
      "execution_count": 4,
      "outputs": []
    },
    {
      "cell_type": "code",
      "metadata": {
        "colab": {
          "base_uri": "https://localhost:8080/"
        },
        "id": "UsbCF1tl-tog",
        "outputId": "fa030eb4-1095-492e-df85-ac53c8b9d340"
      },
      "source": [
        "!ls ~/.kaggle"
      ],
      "execution_count": 5,
      "outputs": [
        {
          "output_type": "stream",
          "name": "stdout",
          "text": [
            "kaggle.json\n"
          ]
        }
      ]
    },
    {
      "cell_type": "code",
      "metadata": {
        "id": "uOKU79v7_Hoo"
      },
      "source": [
        "! chmod 600 ~/.kaggle/kaggle.json"
      ],
      "execution_count": 6,
      "outputs": []
    },
    {
      "cell_type": "code",
      "metadata": {
        "colab": {
          "base_uri": "https://localhost:8080/"
        },
        "id": "3dqM1SIPArvn",
        "outputId": "07b91f71-71e7-4c15-cdcb-5d9a3c59e345"
      },
      "source": [
        "pip show kaggle"
      ],
      "execution_count": null,
      "outputs": [
        {
          "name": "stdout",
          "output_type": "stream",
          "text": [
            "Name: kaggle\n",
            "Version: 1.5.12\n",
            "Summary: Kaggle API\n",
            "Home-page: https://github.com/Kaggle/kaggle-api\n",
            "Author: Kaggle\n",
            "Author-email: support@kaggle.com\n",
            "License: Apache 2.0\n",
            "Location: /usr/local/lib/python3.7/dist-packages\n",
            "Requires: six, requests, python-slugify, tqdm, urllib3, python-dateutil, certifi\n",
            "Required-by: \n"
          ]
        }
      ]
    },
    {
      "cell_type": "code",
      "metadata": {
        "colab": {
          "base_uri": "https://localhost:8080/"
        },
        "id": "Cl47B1j2ArtO",
        "outputId": "ff4ae32c-fc48-42d6-8720-ac55cbcc69b9"
      },
      "source": [
        "!kaggle competitions download nfl-big-data-bowl-2022"
      ],
      "execution_count": 7,
      "outputs": [
        {
          "output_type": "stream",
          "name": "stdout",
          "text": [
            "Warning: Looks like you're using an outdated API Version, please consider updating (server 1.5.12 / client 1.5.4)\n",
            "Downloading players.csv to /content\n",
            "  0% 0.00/172k [00:00<?, ?B/s]\n",
            "100% 172k/172k [00:00<00:00, 65.5MB/s]\n",
            "Downloading tracking2018.csv.zip to /content\n",
            " 99% 269M/272M [00:01<00:00, 242MB/s]\n",
            "100% 272M/272M [00:01<00:00, 244MB/s]\n",
            "Downloading tracking2019.csv.zip to /content\n",
            " 96% 248M/259M [00:01<00:00, 125MB/s]\n",
            "100% 259M/259M [00:01<00:00, 145MB/s]\n",
            "Downloading tracking2020.csv.zip to /content\n",
            " 99% 249M/251M [00:01<00:00, 226MB/s]\n",
            "100% 251M/251M [00:01<00:00, 226MB/s]\n",
            "Downloading games.csv to /content\n",
            "  0% 0.00/39.6k [00:00<?, ?B/s]\n",
            "100% 39.6k/39.6k [00:00<00:00, 36.6MB/s]\n",
            "Downloading PFFScoutingData.csv.zip to /content\n",
            "  0% 0.00/304k [00:00<?, ?B/s]\n",
            "100% 304k/304k [00:00<00:00, 96.0MB/s]\n",
            "Downloading plays.csv.zip to /content\n",
            "  0% 0.00/795k [00:00<?, ?B/s]\n",
            "100% 795k/795k [00:00<00:00, 110MB/s]\n"
          ]
        }
      ]
    },
    {
      "cell_type": "code",
      "metadata": {
        "id": "AItbf-D2DMDM",
        "colab": {
          "base_uri": "https://localhost:8080/"
        },
        "outputId": "bc1b06d0-0e32-4892-d8d8-9697b3158cfe"
      },
      "source": [
        "missing_values = [\"n/a\", \"na\", \"--\",\"-\"] \n",
        "import warnings\n",
        "import tensorflow as tf\n",
        "from tensorflow import keras \n",
        "tf.test.is_gpu_available()\n",
        "import numpy             as np\n",
        "import pandas            as pd\n",
        "pd.set_option('display.max_columns', 100)\n",
        "import matplotlib.pyplot as plt\n",
        "import seaborn as sns\n",
        "from sklearn.preprocessing import LabelEncoder\n",
        "from sklearn.model_selection import train_test_split\n",
        "from tensorflow.keras.models import Sequential\n",
        "from tensorflow.keras.layers import Activation, Dense\n",
        "from tensorflow.keras.layers import BatchNormalization, Dropout\n",
        "from tensorflow.keras import optimizers,regularizers"
      ],
      "execution_count": 2,
      "outputs": [
        {
          "output_type": "stream",
          "name": "stdout",
          "text": [
            "WARNING:tensorflow:From <ipython-input-2-c136c20e14e2>:5: is_gpu_available (from tensorflow.python.framework.test_util) is deprecated and will be removed in a future version.\n",
            "Instructions for updating:\n",
            "Use `tf.config.list_physical_devices('GPU')` instead.\n"
          ]
        }
      ]
    },
    {
      "cell_type": "markdown",
      "metadata": {
        "id": "h_863A2IDjlD"
      },
      "source": [
        "\n",
        "<FONT COLOR = TEAL>\n",
        "<B> File descriptions </b>\n",
        "\n",
        "    Game data: The games.csv contains the teams playing in each game. The key variable is gameId.\n",
        "\n",
        "    Play data: The plays.csv file contains play-level information from each game. The key variables are gameId and playId.\n",
        "\n",
        "    Player data: The players.csv file contains player-level information from players that participated in any of the tracking data files. The key variable is nflId.\n",
        "\n",
        "    Tracking data: Files tracking[season].csv contain player tracking data from season [season]. The key variables are gameId, playId, and nflId.\n",
        "\n",
        "    PFF Scouting data: The PFFScoutingData.csv file contains play-level scouting information for each game. The key variables are gameId and playId*\n",
        "\n"
      ]
    },
    {
      "cell_type": "code",
      "metadata": {
        "colab": {
          "base_uri": "https://localhost:8080/"
        },
        "id": "7njuhSfZEwyr",
        "outputId": "c026143b-088a-4458-b0c8-dc9549c1e1bc"
      },
      "source": [
        "!unzip \"/content/tracking2018.csv.zip\""
      ],
      "execution_count": 22,
      "outputs": [
        {
          "output_type": "stream",
          "name": "stdout",
          "text": [
            "Archive:  /content/tracking2018.csv.zip\n",
            "  inflating: tracking2018.csv        \n"
          ]
        }
      ]
    },
    {
      "cell_type": "code",
      "metadata": {
        "id": "fqn2X0ivDhyj"
      },
      "source": [
        "tracking2018= pd.read_csv('/content/tracking2018.csv', index_col=False)"
      ],
      "execution_count": 3,
      "outputs": []
    },
    {
      "cell_type": "code",
      "metadata": {
        "colab": {
          "base_uri": "https://localhost:8080/",
          "height": 206
        },
        "id": "Mv9ymatCEKxq",
        "outputId": "05844f5c-90c4-41e9-8d74-7651c86033f1"
      },
      "source": [
        "tracking2018.head()"
      ],
      "execution_count": 158,
      "outputs": [
        {
          "output_type": "execute_result",
          "data": {
            "text/html": [
              "<div>\n",
              "<style scoped>\n",
              "    .dataframe tbody tr th:only-of-type {\n",
              "        vertical-align: middle;\n",
              "    }\n",
              "\n",
              "    .dataframe tbody tr th {\n",
              "        vertical-align: top;\n",
              "    }\n",
              "\n",
              "    .dataframe thead th {\n",
              "        text-align: right;\n",
              "    }\n",
              "</style>\n",
              "<table border=\"1\" class=\"dataframe\">\n",
              "  <thead>\n",
              "    <tr style=\"text-align: right;\">\n",
              "      <th></th>\n",
              "      <th>time</th>\n",
              "      <th>x</th>\n",
              "      <th>y</th>\n",
              "      <th>s</th>\n",
              "      <th>a</th>\n",
              "      <th>dis</th>\n",
              "      <th>o</th>\n",
              "      <th>dir</th>\n",
              "      <th>event</th>\n",
              "      <th>nflId</th>\n",
              "      <th>displayName</th>\n",
              "      <th>jerseyNumber</th>\n",
              "      <th>position</th>\n",
              "      <th>team</th>\n",
              "      <th>frameId</th>\n",
              "      <th>gameId</th>\n",
              "      <th>playId</th>\n",
              "      <th>playDirection</th>\n",
              "    </tr>\n",
              "  </thead>\n",
              "  <tbody>\n",
              "    <tr>\n",
              "      <th>0</th>\n",
              "      <td>2018-12-30T21:25:32.200</td>\n",
              "      <td>41.32</td>\n",
              "      <td>29.45</td>\n",
              "      <td>4.36</td>\n",
              "      <td>1.33</td>\n",
              "      <td>0.43</td>\n",
              "      <td>130.42</td>\n",
              "      <td>128.44</td>\n",
              "      <td>None</td>\n",
              "      <td>39470.0</td>\n",
              "      <td>Justin Tucker</td>\n",
              "      <td>9.0</td>\n",
              "      <td>K</td>\n",
              "      <td>home</td>\n",
              "      <td>1</td>\n",
              "      <td>2018123000</td>\n",
              "      <td>36</td>\n",
              "      <td>right</td>\n",
              "    </tr>\n",
              "    <tr>\n",
              "      <th>1</th>\n",
              "      <td>2018-12-30T21:25:32.300</td>\n",
              "      <td>41.68</td>\n",
              "      <td>29.17</td>\n",
              "      <td>4.59</td>\n",
              "      <td>1.24</td>\n",
              "      <td>0.45</td>\n",
              "      <td>128.59</td>\n",
              "      <td>127.81</td>\n",
              "      <td>None</td>\n",
              "      <td>39470.0</td>\n",
              "      <td>Justin Tucker</td>\n",
              "      <td>9.0</td>\n",
              "      <td>K</td>\n",
              "      <td>home</td>\n",
              "      <td>2</td>\n",
              "      <td>2018123000</td>\n",
              "      <td>36</td>\n",
              "      <td>right</td>\n",
              "    </tr>\n",
              "    <tr>\n",
              "      <th>2</th>\n",
              "      <td>2018-12-30T21:25:32.400</td>\n",
              "      <td>42.05</td>\n",
              "      <td>28.88</td>\n",
              "      <td>4.74</td>\n",
              "      <td>0.99</td>\n",
              "      <td>0.47</td>\n",
              "      <td>124.47</td>\n",
              "      <td>128.15</td>\n",
              "      <td>None</td>\n",
              "      <td>39470.0</td>\n",
              "      <td>Justin Tucker</td>\n",
              "      <td>9.0</td>\n",
              "      <td>K</td>\n",
              "      <td>home</td>\n",
              "      <td>3</td>\n",
              "      <td>2018123000</td>\n",
              "      <td>36</td>\n",
              "      <td>right</td>\n",
              "    </tr>\n",
              "    <tr>\n",
              "      <th>3</th>\n",
              "      <td>2018-12-30T21:25:32.500</td>\n",
              "      <td>42.43</td>\n",
              "      <td>28.59</td>\n",
              "      <td>4.87</td>\n",
              "      <td>0.71</td>\n",
              "      <td>0.48</td>\n",
              "      <td>126.02</td>\n",
              "      <td>127.35</td>\n",
              "      <td>None</td>\n",
              "      <td>39470.0</td>\n",
              "      <td>Justin Tucker</td>\n",
              "      <td>9.0</td>\n",
              "      <td>K</td>\n",
              "      <td>home</td>\n",
              "      <td>4</td>\n",
              "      <td>2018123000</td>\n",
              "      <td>36</td>\n",
              "      <td>right</td>\n",
              "    </tr>\n",
              "    <tr>\n",
              "      <th>4</th>\n",
              "      <td>2018-12-30T21:25:32.600</td>\n",
              "      <td>42.84</td>\n",
              "      <td>28.31</td>\n",
              "      <td>4.96</td>\n",
              "      <td>0.79</td>\n",
              "      <td>0.50</td>\n",
              "      <td>131.71</td>\n",
              "      <td>124.75</td>\n",
              "      <td>None</td>\n",
              "      <td>39470.0</td>\n",
              "      <td>Justin Tucker</td>\n",
              "      <td>9.0</td>\n",
              "      <td>K</td>\n",
              "      <td>home</td>\n",
              "      <td>5</td>\n",
              "      <td>2018123000</td>\n",
              "      <td>36</td>\n",
              "      <td>right</td>\n",
              "    </tr>\n",
              "  </tbody>\n",
              "</table>\n",
              "</div>"
            ],
            "text/plain": [
              "                      time      x      y     s     a   dis       o     dir  \\\n",
              "0  2018-12-30T21:25:32.200  41.32  29.45  4.36  1.33  0.43  130.42  128.44   \n",
              "1  2018-12-30T21:25:32.300  41.68  29.17  4.59  1.24  0.45  128.59  127.81   \n",
              "2  2018-12-30T21:25:32.400  42.05  28.88  4.74  0.99  0.47  124.47  128.15   \n",
              "3  2018-12-30T21:25:32.500  42.43  28.59  4.87  0.71  0.48  126.02  127.35   \n",
              "4  2018-12-30T21:25:32.600  42.84  28.31  4.96  0.79  0.50  131.71  124.75   \n",
              "\n",
              "  event    nflId    displayName  jerseyNumber position  team  frameId  \\\n",
              "0  None  39470.0  Justin Tucker           9.0        K  home        1   \n",
              "1  None  39470.0  Justin Tucker           9.0        K  home        2   \n",
              "2  None  39470.0  Justin Tucker           9.0        K  home        3   \n",
              "3  None  39470.0  Justin Tucker           9.0        K  home        4   \n",
              "4  None  39470.0  Justin Tucker           9.0        K  home        5   \n",
              "\n",
              "       gameId  playId playDirection  \n",
              "0  2018123000      36         right  \n",
              "1  2018123000      36         right  \n",
              "2  2018123000      36         right  \n",
              "3  2018123000      36         right  \n",
              "4  2018123000      36         right  "
            ]
          },
          "metadata": {},
          "execution_count": 158
        }
      ]
    },
    {
      "cell_type": "code",
      "metadata": {
        "colab": {
          "base_uri": "https://localhost:8080/",
          "height": 387
        },
        "id": "nw7tLaAgEM3a",
        "outputId": "97e4e487-19b6-46c2-f29c-eaacaf8b6033"
      },
      "source": [
        "sns.set_style(\"darkgrid\")\n",
        "sns.displot(data=tracking2018, x=\"playDirection\")"
      ],
      "execution_count": 25,
      "outputs": [
        {
          "output_type": "execute_result",
          "data": {
            "text/plain": [
              "<seaborn.axisgrid.FacetGrid at 0x7f9bd4557d90>"
            ]
          },
          "metadata": {},
          "execution_count": 25
        },
        {
          "output_type": "display_data",
          "data": {
            "image/png": "[encoded data removed]",
            "text/plain": [
              "<Figure size 360x360 with 1 Axes>"
            ]
          },
          "metadata": {}
        }
      ]
    },
    {
      "cell_type": "code",
      "metadata": {
        "colab": {
          "base_uri": "https://localhost:8080/",
          "height": 423
        },
        "id": "DSnqCp6oEX0I",
        "outputId": "524b00c8-0760-42f2-bee2-3bd7cce68416"
      },
      "source": [
        "tracking2018.fillna(tracking2018.median())"
      ],
      "execution_count": 4,
      "outputs": [
        {
          "output_type": "execute_result",
          "data": {
            "text/html": [
              "<div>\n",
              "<style scoped>\n",
              "    .dataframe tbody tr th:only-of-type {\n",
              "        vertical-align: middle;\n",
              "    }\n",
              "\n",
              "    .dataframe tbody tr th {\n",
              "        vertical-align: top;\n",
              "    }\n",
              "\n",
              "    .dataframe thead th {\n",
              "        text-align: right;\n",
              "    }\n",
              "</style>\n",
              "<table border=\"1\" class=\"dataframe\">\n",
              "  <thead>\n",
              "    <tr style=\"text-align: right;\">\n",
              "      <th></th>\n",
              "      <th>time</th>\n",
              "      <th>x</th>\n",
              "      <th>y</th>\n",
              "      <th>s</th>\n",
              "      <th>a</th>\n",
              "      <th>dis</th>\n",
              "      <th>o</th>\n",
              "      <th>dir</th>\n",
              "      <th>event</th>\n",
              "      <th>nflId</th>\n",
              "      <th>displayName</th>\n",
              "      <th>jerseyNumber</th>\n",
              "      <th>position</th>\n",
              "      <th>team</th>\n",
              "      <th>frameId</th>\n",
              "      <th>gameId</th>\n",
              "      <th>playId</th>\n",
              "      <th>playDirection</th>\n",
              "    </tr>\n",
              "  </thead>\n",
              "  <tbody>\n",
              "    <tr>\n",
              "      <th>0</th>\n",
              "      <td>2018-12-30T21:25:32.200</td>\n",
              "      <td>41.32</td>\n",
              "      <td>29.45</td>\n",
              "      <td>4.36</td>\n",
              "      <td>1.33</td>\n",
              "      <td>0.43</td>\n",
              "      <td>130.42</td>\n",
              "      <td>128.44</td>\n",
              "      <td>None</td>\n",
              "      <td>39470.0</td>\n",
              "      <td>Justin Tucker</td>\n",
              "      <td>9.0</td>\n",
              "      <td>K</td>\n",
              "      <td>home</td>\n",
              "      <td>1</td>\n",
              "      <td>2018123000</td>\n",
              "      <td>36</td>\n",
              "      <td>right</td>\n",
              "    </tr>\n",
              "    <tr>\n",
              "      <th>1</th>\n",
              "      <td>2018-12-30T21:25:32.300</td>\n",
              "      <td>41.68</td>\n",
              "      <td>29.17</td>\n",
              "      <td>4.59</td>\n",
              "      <td>1.24</td>\n",
              "      <td>0.45</td>\n",
              "      <td>128.59</td>\n",
              "      <td>127.81</td>\n",
              "      <td>None</td>\n",
              "      <td>39470.0</td>\n",
              "      <td>Justin Tucker</td>\n",
              "      <td>9.0</td>\n",
              "      <td>K</td>\n",
              "      <td>home</td>\n",
              "      <td>2</td>\n",
              "      <td>2018123000</td>\n",
              "      <td>36</td>\n",
              "      <td>right</td>\n",
              "    </tr>\n",
              "    <tr>\n",
              "      <th>2</th>\n",
              "      <td>2018-12-30T21:25:32.400</td>\n",
              "      <td>42.05</td>\n",
              "      <td>28.88</td>\n",
              "      <td>4.74</td>\n",
              "      <td>0.99</td>\n",
              "      <td>0.47</td>\n",
              "      <td>124.47</td>\n",
              "      <td>128.15</td>\n",
              "      <td>None</td>\n",
              "      <td>39470.0</td>\n",
              "      <td>Justin Tucker</td>\n",
              "      <td>9.0</td>\n",
              "      <td>K</td>\n",
              "      <td>home</td>\n",
              "      <td>3</td>\n",
              "      <td>2018123000</td>\n",
              "      <td>36</td>\n",
              "      <td>right</td>\n",
              "    </tr>\n",
              "    <tr>\n",
              "      <th>3</th>\n",
              "      <td>2018-12-30T21:25:32.500</td>\n",
              "      <td>42.43</td>\n",
              "      <td>28.59</td>\n",
              "      <td>4.87</td>\n",
              "      <td>0.71</td>\n",
              "      <td>0.48</td>\n",
              "      <td>126.02</td>\n",
              "      <td>127.35</td>\n",
              "      <td>None</td>\n",
              "      <td>39470.0</td>\n",
              "      <td>Justin Tucker</td>\n",
              "      <td>9.0</td>\n",
              "      <td>K</td>\n",
              "      <td>home</td>\n",
              "      <td>4</td>\n",
              "      <td>2018123000</td>\n",
              "      <td>36</td>\n",
              "      <td>right</td>\n",
              "    </tr>\n",
              "    <tr>\n",
              "      <th>4</th>\n",
              "      <td>2018-12-30T21:25:32.600</td>\n",
              "      <td>42.84</td>\n",
              "      <td>28.31</td>\n",
              "      <td>4.96</td>\n",
              "      <td>0.79</td>\n",
              "      <td>0.50</td>\n",
              "      <td>131.71</td>\n",
              "      <td>124.75</td>\n",
              "      <td>None</td>\n",
              "      <td>39470.0</td>\n",
              "      <td>Justin Tucker</td>\n",
              "      <td>9.0</td>\n",
              "      <td>K</td>\n",
              "      <td>home</td>\n",
              "      <td>5</td>\n",
              "      <td>2018123000</td>\n",
              "      <td>36</td>\n",
              "      <td>right</td>\n",
              "    </tr>\n",
              "    <tr>\n",
              "      <th>...</th>\n",
              "      <td>...</td>\n",
              "      <td>...</td>\n",
              "      <td>...</td>\n",
              "      <td>...</td>\n",
              "      <td>...</td>\n",
              "      <td>...</td>\n",
              "      <td>...</td>\n",
              "      <td>...</td>\n",
              "      <td>...</td>\n",
              "      <td>...</td>\n",
              "      <td>...</td>\n",
              "      <td>...</td>\n",
              "      <td>...</td>\n",
              "      <td>...</td>\n",
              "      <td>...</td>\n",
              "      <td>...</td>\n",
              "      <td>...</td>\n",
              "      <td>...</td>\n",
              "    </tr>\n",
              "    <tr>\n",
              "      <th>12777346</th>\n",
              "      <td>2018-09-11T05:25:17.800</td>\n",
              "      <td>123.18</td>\n",
              "      <td>51.73</td>\n",
              "      <td>3.76</td>\n",
              "      <td>1.45</td>\n",
              "      <td>0.29</td>\n",
              "      <td>180.54</td>\n",
              "      <td>180.49</td>\n",
              "      <td>None</td>\n",
              "      <td>43398.0</td>\n",
              "      <td>football</td>\n",
              "      <td>43.0</td>\n",
              "      <td>NaN</td>\n",
              "      <td>football</td>\n",
              "      <td>59</td>\n",
              "      <td>2018091001</td>\n",
              "      <td>4033</td>\n",
              "      <td>right</td>\n",
              "    </tr>\n",
              "    <tr>\n",
              "      <th>12777347</th>\n",
              "      <td>2018-09-11T05:25:17.900</td>\n",
              "      <td>123.40</td>\n",
              "      <td>51.89</td>\n",
              "      <td>3.19</td>\n",
              "      <td>3.02</td>\n",
              "      <td>0.28</td>\n",
              "      <td>180.54</td>\n",
              "      <td>180.49</td>\n",
              "      <td>None</td>\n",
              "      <td>43398.0</td>\n",
              "      <td>football</td>\n",
              "      <td>43.0</td>\n",
              "      <td>NaN</td>\n",
              "      <td>football</td>\n",
              "      <td>60</td>\n",
              "      <td>2018091001</td>\n",
              "      <td>4033</td>\n",
              "      <td>right</td>\n",
              "    </tr>\n",
              "    <tr>\n",
              "      <th>12777348</th>\n",
              "      <td>2018-09-11T05:25:18.000</td>\n",
              "      <td>123.55</td>\n",
              "      <td>52.18</td>\n",
              "      <td>2.95</td>\n",
              "      <td>3.88</td>\n",
              "      <td>0.32</td>\n",
              "      <td>180.54</td>\n",
              "      <td>180.49</td>\n",
              "      <td>None</td>\n",
              "      <td>43398.0</td>\n",
              "      <td>football</td>\n",
              "      <td>43.0</td>\n",
              "      <td>NaN</td>\n",
              "      <td>football</td>\n",
              "      <td>61</td>\n",
              "      <td>2018091001</td>\n",
              "      <td>4033</td>\n",
              "      <td>right</td>\n",
              "    </tr>\n",
              "    <tr>\n",
              "      <th>12777349</th>\n",
              "      <td>2018-09-11T05:25:18.100</td>\n",
              "      <td>123.67</td>\n",
              "      <td>52.50</td>\n",
              "      <td>3.01</td>\n",
              "      <td>4.53</td>\n",
              "      <td>0.34</td>\n",
              "      <td>180.54</td>\n",
              "      <td>180.49</td>\n",
              "      <td>None</td>\n",
              "      <td>43398.0</td>\n",
              "      <td>football</td>\n",
              "      <td>43.0</td>\n",
              "      <td>NaN</td>\n",
              "      <td>football</td>\n",
              "      <td>62</td>\n",
              "      <td>2018091001</td>\n",
              "      <td>4033</td>\n",
              "      <td>right</td>\n",
              "    </tr>\n",
              "    <tr>\n",
              "      <th>12777350</th>\n",
              "      <td>2018-09-11T05:25:18.200</td>\n",
              "      <td>123.74</td>\n",
              "      <td>52.81</td>\n",
              "      <td>3.03</td>\n",
              "      <td>3.97</td>\n",
              "      <td>0.32</td>\n",
              "      <td>180.54</td>\n",
              "      <td>180.49</td>\n",
              "      <td>None</td>\n",
              "      <td>43398.0</td>\n",
              "      <td>football</td>\n",
              "      <td>43.0</td>\n",
              "      <td>NaN</td>\n",
              "      <td>football</td>\n",
              "      <td>63</td>\n",
              "      <td>2018091001</td>\n",
              "      <td>4033</td>\n",
              "      <td>right</td>\n",
              "    </tr>\n",
              "  </tbody>\n",
              "</table>\n",
              "<p>12777351 rows × 18 columns</p>\n",
              "</div>"
            ],
            "text/plain": [
              "                             time       x      y     s     a   dis       o  \\\n",
              "0         2018-12-30T21:25:32.200   41.32  29.45  4.36  1.33  0.43  130.42   \n",
              "1         2018-12-30T21:25:32.300   41.68  29.17  4.59  1.24  0.45  128.59   \n",
              "2         2018-12-30T21:25:32.400   42.05  28.88  4.74  0.99  0.47  124.47   \n",
              "3         2018-12-30T21:25:32.500   42.43  28.59  4.87  0.71  0.48  126.02   \n",
              "4         2018-12-30T21:25:32.600   42.84  28.31  4.96  0.79  0.50  131.71   \n",
              "...                           ...     ...    ...   ...   ...   ...     ...   \n",
              "12777346  2018-09-11T05:25:17.800  123.18  51.73  3.76  1.45  0.29  180.54   \n",
              "12777347  2018-09-11T05:25:17.900  123.40  51.89  3.19  3.02  0.28  180.54   \n",
              "12777348  2018-09-11T05:25:18.000  123.55  52.18  2.95  3.88  0.32  180.54   \n",
              "12777349  2018-09-11T05:25:18.100  123.67  52.50  3.01  4.53  0.34  180.54   \n",
              "12777350  2018-09-11T05:25:18.200  123.74  52.81  3.03  3.97  0.32  180.54   \n",
              "\n",
              "             dir event    nflId    displayName  jerseyNumber position  \\\n",
              "0         128.44  None  39470.0  Justin Tucker           9.0        K   \n",
              "1         127.81  None  39470.0  Justin Tucker           9.0        K   \n",
              "2         128.15  None  39470.0  Justin Tucker           9.0        K   \n",
              "3         127.35  None  39470.0  Justin Tucker           9.0        K   \n",
              "4         124.75  None  39470.0  Justin Tucker           9.0        K   \n",
              "...          ...   ...      ...            ...           ...      ...   \n",
              "12777346  180.49  None  43398.0       football          43.0      NaN   \n",
              "12777347  180.49  None  43398.0       football          43.0      NaN   \n",
              "12777348  180.49  None  43398.0       football          43.0      NaN   \n",
              "12777349  180.49  None  43398.0       football          43.0      NaN   \n",
              "12777350  180.49  None  43398.0       football          43.0      NaN   \n",
              "\n",
              "              team  frameId      gameId  playId playDirection  \n",
              "0             home        1  2018123000      36         right  \n",
              "1             home        2  2018123000      36         right  \n",
              "2             home        3  2018123000      36         right  \n",
              "3             home        4  2018123000      36         right  \n",
              "4             home        5  2018123000      36         right  \n",
              "...            ...      ...         ...     ...           ...  \n",
              "12777346  football       59  2018091001    4033         right  \n",
              "12777347  football       60  2018091001    4033         right  \n",
              "12777348  football       61  2018091001    4033         right  \n",
              "12777349  football       62  2018091001    4033         right  \n",
              "12777350  football       63  2018091001    4033         right  \n",
              "\n",
              "[12777351 rows x 18 columns]"
            ]
          },
          "metadata": {},
          "execution_count": 4
        }
      ]
    },
    {
      "cell_type": "code",
      "metadata": {
        "colab": {
          "base_uri": "https://localhost:8080/"
        },
        "id": "jO5Rz1YLEqAS",
        "outputId": "21052d3b-bb49-40ee-8205-f7365fa9dc2b"
      },
      "source": [
        "tracking2018.isnull().sum()"
      ],
      "execution_count": 159,
      "outputs": [
        {
          "output_type": "execute_result",
          "data": {
            "text/plain": [
              "time                  0\n",
              "x                     0\n",
              "y                     0\n",
              "s                     0\n",
              "a                     0\n",
              "dis                   0\n",
              "o                555537\n",
              "dir              555537\n",
              "event                 0\n",
              "nflId            555537\n",
              "displayName           0\n",
              "jerseyNumber     555537\n",
              "position         555537\n",
              "team                  0\n",
              "frameId               0\n",
              "gameId                0\n",
              "playId                0\n",
              "playDirection         0\n",
              "dtype: int64"
            ]
          },
          "metadata": {},
          "execution_count": 159
        }
      ]
    },
    {
      "cell_type": "code",
      "metadata": {
        "colab": {
          "base_uri": "https://localhost:8080/",
          "height": 330
        },
        "id": "yU-cPNf-F3-5",
        "outputId": "161ab110-57db-43e9-f7bb-59b862de08f2"
      },
      "source": [
        "ax = sns.heatmap(tracking2018.corr(), linewidth=0.8)\n",
        "plt.show()"
      ],
      "execution_count": 14,
      "outputs": [
        {
          "output_type": "display_data",
          "data": {
            "image/png": "[encoded data removed]",
            "text/plain": [
              "<Figure size 432x288 with 2 Axes>"
            ]
          },
          "metadata": {
            "needs_background": "light"
          }
        }
      ]
    },
    {
      "cell_type": "markdown",
      "metadata": {
        "id": "oj9zwyCaIPvf"
      },
      "source": [
        "Corr between S,A, dis, dir Frame id seems to be \n",
        "convincing \n",
        "\n",
        "---\n",
        "\n",
        "Considering playDirection as our target variable we will keep the coorelated columns for further processing. \n",
        "\n"
      ]
    },
    {
      "cell_type": "code",
      "metadata": {
        "id": "xrMB4vNPIGbx"
      },
      "source": [
        "tracking2018.drop(['x','y','jerseyNumber','gameId','playId','time','event','displayName','team'], axis='columns', inplace=True)"
      ],
      "execution_count": 5,
      "outputs": []
    },
    {
      "cell_type": "code",
      "metadata": {
        "id": "zr0x0eoRMy7V"
      },
      "source": [
        "tracking2018['o'].fillna(tracking2018.o.median(), inplace = True)  \n",
        "tracking2018['nflId'].fillna(tracking2018.nflId.median(), inplace = True)  \n",
        "tracking2018['dir'].fillna(tracking2018.dir.mean(), inplace = True)  "
      ],
      "execution_count": 7,
      "outputs": []
    },
    {
      "cell_type": "code",
      "metadata": {
        "colab": {
          "base_uri": "https://localhost:8080/",
          "height": 300
        },
        "id": "lwamnUzmTcJD",
        "outputId": "01c85d1c-5150-49c7-dab7-fc66c1dfde82"
      },
      "source": [
        "tracking2018.describe()"
      ],
      "execution_count": 8,
      "outputs": [
        {
          "output_type": "execute_result",
          "data": {
            "text/html": [
              "<div>\n",
              "<style scoped>\n",
              "    .dataframe tbody tr th:only-of-type {\n",
              "        vertical-align: middle;\n",
              "    }\n",
              "\n",
              "    .dataframe tbody tr th {\n",
              "        vertical-align: top;\n",
              "    }\n",
              "\n",
              "    .dataframe thead th {\n",
              "        text-align: right;\n",
              "    }\n",
              "</style>\n",
              "<table border=\"1\" class=\"dataframe\">\n",
              "  <thead>\n",
              "    <tr style=\"text-align: right;\">\n",
              "      <th></th>\n",
              "      <th>s</th>\n",
              "      <th>a</th>\n",
              "      <th>dis</th>\n",
              "      <th>o</th>\n",
              "      <th>dir</th>\n",
              "      <th>nflId</th>\n",
              "      <th>frameId</th>\n",
              "    </tr>\n",
              "  </thead>\n",
              "  <tbody>\n",
              "    <tr>\n",
              "      <th>count</th>\n",
              "      <td>1.277735e+07</td>\n",
              "      <td>1.277735e+07</td>\n",
              "      <td>1.277735e+07</td>\n",
              "      <td>1.277735e+07</td>\n",
              "      <td>1.277735e+07</td>\n",
              "      <td>1.277735e+07</td>\n",
              "      <td>1.277735e+07</td>\n",
              "    </tr>\n",
              "    <tr>\n",
              "      <th>mean</th>\n",
              "      <td>3.881972e+00</td>\n",
              "      <td>1.739485e+00</td>\n",
              "      <td>3.944878e-01</td>\n",
              "      <td>1.799730e+02</td>\n",
              "      <td>1.799976e+02</td>\n",
              "      <td>4.254675e+04</td>\n",
              "      <td>4.707462e+01</td>\n",
              "    </tr>\n",
              "    <tr>\n",
              "      <th>std</th>\n",
              "      <td>3.424896e+00</td>\n",
              "      <td>1.572912e+00</td>\n",
              "      <td>3.630697e-01</td>\n",
              "      <td>9.688194e+01</td>\n",
              "      <td>9.663434e+01</td>\n",
              "      <td>3.522530e+03</td>\n",
              "      <td>3.374721e+01</td>\n",
              "    </tr>\n",
              "    <tr>\n",
              "      <th>min</th>\n",
              "      <td>0.000000e+00</td>\n",
              "      <td>0.000000e+00</td>\n",
              "      <td>0.000000e+00</td>\n",
              "      <td>0.000000e+00</td>\n",
              "      <td>0.000000e+00</td>\n",
              "      <td>2.121300e+04</td>\n",
              "      <td>1.000000e+00</td>\n",
              "    </tr>\n",
              "    <tr>\n",
              "      <th>25%</th>\n",
              "      <td>8.300000e-01</td>\n",
              "      <td>6.300000e-01</td>\n",
              "      <td>9.000000e-02</td>\n",
              "      <td>9.173000e+01</td>\n",
              "      <td>9.164000e+01</td>\n",
              "      <td>4.061500e+04</td>\n",
              "      <td>2.100000e+01</td>\n",
              "    </tr>\n",
              "    <tr>\n",
              "      <th>50%</th>\n",
              "      <td>3.310000e+00</td>\n",
              "      <td>1.410000e+00</td>\n",
              "      <td>3.300000e-01</td>\n",
              "      <td>1.805400e+02</td>\n",
              "      <td>1.799976e+02</td>\n",
              "      <td>4.339800e+04</td>\n",
              "      <td>4.100000e+01</td>\n",
              "    </tr>\n",
              "    <tr>\n",
              "      <th>75%</th>\n",
              "      <td>6.480000e+00</td>\n",
              "      <td>2.490000e+00</td>\n",
              "      <td>6.500000e-01</td>\n",
              "      <td>2.679200e+02</td>\n",
              "      <td>2.682300e+02</td>\n",
              "      <td>4.504600e+04</td>\n",
              "      <td>6.700000e+01</td>\n",
              "    </tr>\n",
              "    <tr>\n",
              "      <th>max</th>\n",
              "      <td>4.832000e+01</td>\n",
              "      <td>6.378000e+01</td>\n",
              "      <td>5.307000e+01</td>\n",
              "      <td>3.600000e+02</td>\n",
              "      <td>3.600000e+02</td>\n",
              "      <td>4.701600e+04</td>\n",
              "      <td>4.730000e+02</td>\n",
              "    </tr>\n",
              "  </tbody>\n",
              "</table>\n",
              "</div>"
            ],
            "text/plain": [
              "                  s             a           dis             o           dir  \\\n",
              "count  1.277735e+07  1.277735e+07  1.277735e+07  1.277735e+07  1.277735e+07   \n",
              "mean   3.881972e+00  1.739485e+00  3.944878e-01  1.799730e+02  1.799976e+02   \n",
              "std    3.424896e+00  1.572912e+00  3.630697e-01  9.688194e+01  9.663434e+01   \n",
              "min    0.000000e+00  0.000000e+00  0.000000e+00  0.000000e+00  0.000000e+00   \n",
              "25%    8.300000e-01  6.300000e-01  9.000000e-02  9.173000e+01  9.164000e+01   \n",
              "50%    3.310000e+00  1.410000e+00  3.300000e-01  1.805400e+02  1.799976e+02   \n",
              "75%    6.480000e+00  2.490000e+00  6.500000e-01  2.679200e+02  2.682300e+02   \n",
              "max    4.832000e+01  6.378000e+01  5.307000e+01  3.600000e+02  3.600000e+02   \n",
              "\n",
              "              nflId       frameId  \n",
              "count  1.277735e+07  1.277735e+07  \n",
              "mean   4.254675e+04  4.707462e+01  \n",
              "std    3.522530e+03  3.374721e+01  \n",
              "min    2.121300e+04  1.000000e+00  \n",
              "25%    4.061500e+04  2.100000e+01  \n",
              "50%    4.339800e+04  4.100000e+01  \n",
              "75%    4.504600e+04  6.700000e+01  \n",
              "max    4.701600e+04  4.730000e+02  "
            ]
          },
          "metadata": {},
          "execution_count": 8
        }
      ]
    },
    {
      "cell_type": "code",
      "metadata": {
        "id": "M5Mj1CNKN5IO"
      },
      "source": [
        "one_hot = pd.get_dummies(tracking2018['position'])"
      ],
      "execution_count": 9,
      "outputs": []
    },
    {
      "cell_type": "code",
      "metadata": {
        "id": "NZwxmB35PdSk"
      },
      "source": [
        "tracking2018 = tracking2018.drop('position',axis = 1)"
      ],
      "execution_count": 10,
      "outputs": []
    },
    {
      "cell_type": "code",
      "metadata": {
        "id": "3EqAyAurPpF1"
      },
      "source": [
        "tracking2018 = tracking2018.join(one_hot)\n",
        "tracking2018['playDirection'] = tracking2018['playDirection'].astype('bool') "
      ],
      "execution_count": 11,
      "outputs": []
    },
    {
      "cell_type": "code",
      "metadata": {
        "colab": {
          "base_uri": "https://localhost:8080/",
          "height": 206
        },
        "id": "bloCwi5S0fqZ",
        "outputId": "d3ab01dd-4956-406c-ae43-a51d5702ab28"
      },
      "source": [
        "tracking2018.head()"
      ],
      "execution_count": 13,
      "outputs": [
        {
          "output_type": "execute_result",
          "data": {
            "text/html": [
              "<div>\n",
              "<style scoped>\n",
              "    .dataframe tbody tr th:only-of-type {\n",
              "        vertical-align: middle;\n",
              "    }\n",
              "\n",
              "    .dataframe tbody tr th {\n",
              "        vertical-align: top;\n",
              "    }\n",
              "\n",
              "    .dataframe thead th {\n",
              "        text-align: right;\n",
              "    }\n",
              "</style>\n",
              "<table border=\"1\" class=\"dataframe\">\n",
              "  <thead>\n",
              "    <tr style=\"text-align: right;\">\n",
              "      <th></th>\n",
              "      <th>s</th>\n",
              "      <th>a</th>\n",
              "      <th>dis</th>\n",
              "      <th>o</th>\n",
              "      <th>dir</th>\n",
              "      <th>nflId</th>\n",
              "      <th>frameId</th>\n",
              "      <th>playDirection</th>\n",
              "      <th>C</th>\n",
              "      <th>CB</th>\n",
              "      <th>DB</th>\n",
              "      <th>DE</th>\n",
              "      <th>DL</th>\n",
              "      <th>DT</th>\n",
              "      <th>FB</th>\n",
              "      <th>FS</th>\n",
              "      <th>G</th>\n",
              "      <th>HB</th>\n",
              "      <th>ILB</th>\n",
              "      <th>K</th>\n",
              "      <th>LB</th>\n",
              "      <th>LS</th>\n",
              "      <th>MLB</th>\n",
              "      <th>NT</th>\n",
              "      <th>OG</th>\n",
              "      <th>OLB</th>\n",
              "      <th>OT</th>\n",
              "      <th>P</th>\n",
              "      <th>QB</th>\n",
              "      <th>RB</th>\n",
              "      <th>S</th>\n",
              "      <th>SS</th>\n",
              "      <th>T</th>\n",
              "      <th>TE</th>\n",
              "      <th>WR</th>\n",
              "    </tr>\n",
              "  </thead>\n",
              "  <tbody>\n",
              "    <tr>\n",
              "      <th>0</th>\n",
              "      <td>4.36</td>\n",
              "      <td>1.33</td>\n",
              "      <td>0.43</td>\n",
              "      <td>130.42</td>\n",
              "      <td>128.44</td>\n",
              "      <td>39470.0</td>\n",
              "      <td>1</td>\n",
              "      <td>True</td>\n",
              "      <td>0</td>\n",
              "      <td>0</td>\n",
              "      <td>0</td>\n",
              "      <td>0</td>\n",
              "      <td>0</td>\n",
              "      <td>0</td>\n",
              "      <td>0</td>\n",
              "      <td>0</td>\n",
              "      <td>0</td>\n",
              "      <td>0</td>\n",
              "      <td>0</td>\n",
              "      <td>1</td>\n",
              "      <td>0</td>\n",
              "      <td>0</td>\n",
              "      <td>0</td>\n",
              "      <td>0</td>\n",
              "      <td>0</td>\n",
              "      <td>0</td>\n",
              "      <td>0</td>\n",
              "      <td>0</td>\n",
              "      <td>0</td>\n",
              "      <td>0</td>\n",
              "      <td>0</td>\n",
              "      <td>0</td>\n",
              "      <td>0</td>\n",
              "      <td>0</td>\n",
              "      <td>0</td>\n",
              "    </tr>\n",
              "    <tr>\n",
              "      <th>1</th>\n",
              "      <td>4.59</td>\n",
              "      <td>1.24</td>\n",
              "      <td>0.45</td>\n",
              "      <td>128.59</td>\n",
              "      <td>127.81</td>\n",
              "      <td>39470.0</td>\n",
              "      <td>2</td>\n",
              "      <td>True</td>\n",
              "      <td>0</td>\n",
              "      <td>0</td>\n",
              "      <td>0</td>\n",
              "      <td>0</td>\n",
              "      <td>0</td>\n",
              "      <td>0</td>\n",
              "      <td>0</td>\n",
              "      <td>0</td>\n",
              "      <td>0</td>\n",
              "      <td>0</td>\n",
              "      <td>0</td>\n",
              "      <td>1</td>\n",
              "      <td>0</td>\n",
              "      <td>0</td>\n",
              "      <td>0</td>\n",
              "      <td>0</td>\n",
              "      <td>0</td>\n",
              "      <td>0</td>\n",
              "      <td>0</td>\n",
              "      <td>0</td>\n",
              "      <td>0</td>\n",
              "      <td>0</td>\n",
              "      <td>0</td>\n",
              "      <td>0</td>\n",
              "      <td>0</td>\n",
              "      <td>0</td>\n",
              "      <td>0</td>\n",
              "    </tr>\n",
              "    <tr>\n",
              "      <th>2</th>\n",
              "      <td>4.74</td>\n",
              "      <td>0.99</td>\n",
              "      <td>0.47</td>\n",
              "      <td>124.47</td>\n",
              "      <td>128.15</td>\n",
              "      <td>39470.0</td>\n",
              "      <td>3</td>\n",
              "      <td>True</td>\n",
              "      <td>0</td>\n",
              "      <td>0</td>\n",
              "      <td>0</td>\n",
              "      <td>0</td>\n",
              "      <td>0</td>\n",
              "      <td>0</td>\n",
              "      <td>0</td>\n",
              "      <td>0</td>\n",
              "      <td>0</td>\n",
              "      <td>0</td>\n",
              "      <td>0</td>\n",
              "      <td>1</td>\n",
              "      <td>0</td>\n",
              "      <td>0</td>\n",
              "      <td>0</td>\n",
              "      <td>0</td>\n",
              "      <td>0</td>\n",
              "      <td>0</td>\n",
              "      <td>0</td>\n",
              "      <td>0</td>\n",
              "      <td>0</td>\n",
              "      <td>0</td>\n",
              "      <td>0</td>\n",
              "      <td>0</td>\n",
              "      <td>0</td>\n",
              "      <td>0</td>\n",
              "      <td>0</td>\n",
              "    </tr>\n",
              "    <tr>\n",
              "      <th>3</th>\n",
              "      <td>4.87</td>\n",
              "      <td>0.71</td>\n",
              "      <td>0.48</td>\n",
              "      <td>126.02</td>\n",
              "      <td>127.35</td>\n",
              "      <td>39470.0</td>\n",
              "      <td>4</td>\n",
              "      <td>True</td>\n",
              "      <td>0</td>\n",
              "      <td>0</td>\n",
              "      <td>0</td>\n",
              "      <td>0</td>\n",
              "      <td>0</td>\n",
              "      <td>0</td>\n",
              "      <td>0</td>\n",
              "      <td>0</td>\n",
              "      <td>0</td>\n",
              "      <td>0</td>\n",
              "      <td>0</td>\n",
              "      <td>1</td>\n",
              "      <td>0</td>\n",
              "      <td>0</td>\n",
              "      <td>0</td>\n",
              "      <td>0</td>\n",
              "      <td>0</td>\n",
              "      <td>0</td>\n",
              "      <td>0</td>\n",
              "      <td>0</td>\n",
              "      <td>0</td>\n",
              "      <td>0</td>\n",
              "      <td>0</td>\n",
              "      <td>0</td>\n",
              "      <td>0</td>\n",
              "      <td>0</td>\n",
              "      <td>0</td>\n",
              "    </tr>\n",
              "    <tr>\n",
              "      <th>4</th>\n",
              "      <td>4.96</td>\n",
              "      <td>0.79</td>\n",
              "      <td>0.50</td>\n",
              "      <td>131.71</td>\n",
              "      <td>124.75</td>\n",
              "      <td>39470.0</td>\n",
              "      <td>5</td>\n",
              "      <td>True</td>\n",
              "      <td>0</td>\n",
              "      <td>0</td>\n",
              "      <td>0</td>\n",
              "      <td>0</td>\n",
              "      <td>0</td>\n",
              "      <td>0</td>\n",
              "      <td>0</td>\n",
              "      <td>0</td>\n",
              "      <td>0</td>\n",
              "      <td>0</td>\n",
              "      <td>0</td>\n",
              "      <td>1</td>\n",
              "      <td>0</td>\n",
              "      <td>0</td>\n",
              "      <td>0</td>\n",
              "      <td>0</td>\n",
              "      <td>0</td>\n",
              "      <td>0</td>\n",
              "      <td>0</td>\n",
              "      <td>0</td>\n",
              "      <td>0</td>\n",
              "      <td>0</td>\n",
              "      <td>0</td>\n",
              "      <td>0</td>\n",
              "      <td>0</td>\n",
              "      <td>0</td>\n",
              "      <td>0</td>\n",
              "    </tr>\n",
              "  </tbody>\n",
              "</table>\n",
              "</div>"
            ],
            "text/plain": [
              "      s     a   dis       o     dir    nflId  frameId  playDirection  C  CB  \\\n",
              "0  4.36  1.33  0.43  130.42  128.44  39470.0        1           True  0   0   \n",
              "1  4.59  1.24  0.45  128.59  127.81  39470.0        2           True  0   0   \n",
              "2  4.74  0.99  0.47  124.47  128.15  39470.0        3           True  0   0   \n",
              "3  4.87  0.71  0.48  126.02  127.35  39470.0        4           True  0   0   \n",
              "4  4.96  0.79  0.50  131.71  124.75  39470.0        5           True  0   0   \n",
              "\n",
              "   DB  DE  DL  DT  FB  FS  G  HB  ILB  K  LB  LS  MLB  NT  OG  OLB  OT  P  QB  \\\n",
              "0   0   0   0   0   0   0  0   0    0  1   0   0    0   0   0    0   0  0   0   \n",
              "1   0   0   0   0   0   0  0   0    0  1   0   0    0   0   0    0   0  0   0   \n",
              "2   0   0   0   0   0   0  0   0    0  1   0   0    0   0   0    0   0  0   0   \n",
              "3   0   0   0   0   0   0  0   0    0  1   0   0    0   0   0    0   0  0   0   \n",
              "4   0   0   0   0   0   0  0   0    0  1   0   0    0   0   0    0   0  0   0   \n",
              "\n",
              "   RB  S  SS  T  TE  WR  \n",
              "0   0  0   0  0   0   0  \n",
              "1   0  0   0  0   0   0  \n",
              "2   0  0   0  0   0   0  \n",
              "3   0  0   0  0   0   0  \n",
              "4   0  0   0  0   0   0  "
            ]
          },
          "metadata": {},
          "execution_count": 13
        }
      ]
    },
    {
      "cell_type": "code",
      "metadata": {
        "colab": {
          "base_uri": "https://localhost:8080/"
        },
        "id": "2dxLdRmePtzU",
        "outputId": "432e978c-cdc3-42da-b189-2c49a36c455d"
      },
      "source": [
        "tracking2018.isnull().sum()"
      ],
      "execution_count": 14,
      "outputs": [
        {
          "output_type": "execute_result",
          "data": {
            "text/plain": [
              "s                0\n",
              "a                0\n",
              "dis              0\n",
              "o                0\n",
              "dir              0\n",
              "nflId            0\n",
              "frameId          0\n",
              "playDirection    0\n",
              "C                0\n",
              "CB               0\n",
              "DB               0\n",
              "DE               0\n",
              "DL               0\n",
              "DT               0\n",
              "FB               0\n",
              "FS               0\n",
              "G                0\n",
              "HB               0\n",
              "ILB              0\n",
              "K                0\n",
              "LB               0\n",
              "LS               0\n",
              "MLB              0\n",
              "NT               0\n",
              "OG               0\n",
              "OLB              0\n",
              "OT               0\n",
              "P                0\n",
              "QB               0\n",
              "RB               0\n",
              "S                0\n",
              "SS               0\n",
              "T                0\n",
              "TE               0\n",
              "WR               0\n",
              "dtype: int64"
            ]
          },
          "metadata": {},
          "execution_count": 14
        }
      ]
    },
    {
      "cell_type": "code",
      "metadata": {
        "id": "QwuLm1EpP7Cc"
      },
      "source": [
        "X = tracking2018.drop(\"playDirection\", axis=1)\n",
        "y = tracking2018['playDirection']"
      ],
      "execution_count": 15,
      "outputs": []
    },
    {
      "cell_type": "code",
      "metadata": {
        "id": "DHT_TQO-TwPU"
      },
      "source": [
        "# splitting into training and testing\n",
        "X_vtrain, X_test, y_vtrain, y_test = train_test_split(X, y, test_size=.30)"
      ],
      "execution_count": 16,
      "outputs": []
    },
    {
      "cell_type": "code",
      "metadata": {
        "id": "_HZ2r4rZT9jq"
      },
      "source": [
        "# splitting to create training and validation data\n",
        "X_train, X_val, y_train, y_val = train_test_split(X_vtrain, y_vtrain, test_size=.20)"
      ],
      "execution_count": 17,
      "outputs": []
    },
    {
      "cell_type": "code",
      "metadata": {
        "colab": {
          "base_uri": "https://localhost:8080/"
        },
        "id": "JTmuwh7eUAFr",
        "outputId": "3177fee4-0b9c-4a29-c659-ebb24f33bdfb"
      },
      "source": [
        "datashape = X_train.shape\n",
        "datashape"
      ],
      "execution_count": 18,
      "outputs": [
        {
          "output_type": "execute_result",
          "data": {
            "text/plain": [
              "(7155316, 34)"
            ]
          },
          "metadata": {},
          "execution_count": 18
        }
      ]
    },
    {
      "cell_type": "code",
      "metadata": {
        "id": "R-AnHcVDlY56"
      },
      "source": [
        "# Input Layer\n",
        "#Adding Input layer and activation functions ReLU\n",
        "nn_reg = Sequential([\n",
        "                     Dense(34, activation ='relu',input_shape= (34, ))])"
      ],
      "execution_count": 19,
      "outputs": []
    },
    {
      "cell_type": "code",
      "metadata": {
        "id": "71bpqztXr-SR"
      },
      "source": [
        "nn_reg.add(Dense(34, activation ='relu'))\n",
        "nn_reg.add(Dense(17, activation ='relu'))\n",
        "nn_reg.add(Dense(8, activation ='relu'))\n",
        "nn_reg.add(Dense(4, activation ='relu'))\n",
        "nn_reg.add(Dense(2, activation ='relu'))\n",
        "nn_reg.add(Dense(1, activation ='softmax'))"
      ],
      "execution_count": 20,
      "outputs": []
    },
    {
      "cell_type": "code",
      "metadata": {
        "colab": {
          "base_uri": "https://localhost:8080/"
        },
        "id": "naXWk734thnv",
        "outputId": "f0ce9dbc-0f61-4532-ea14-baa02cb7f372"
      },
      "source": [
        "nn_reg.summary()"
      ],
      "execution_count": 21,
      "outputs": [
        {
          "output_type": "stream",
          "name": "stdout",
          "text": [
            "Model: \"sequential\"\n",
            "_________________________________________________________________\n",
            "Layer (type)                 Output Shape              Param #   \n",
            "=================================================================\n",
            "dense (Dense)                (None, 34)                1190      \n",
            "_________________________________________________________________\n",
            "dense_1 (Dense)              (None, 34)                1190      \n",
            "_________________________________________________________________\n",
            "dense_2 (Dense)              (None, 17)                595       \n",
            "_________________________________________________________________\n",
            "dense_3 (Dense)              (None, 8)                 144       \n",
            "_________________________________________________________________\n",
            "dense_4 (Dense)              (None, 4)                 36        \n",
            "_________________________________________________________________\n",
            "dense_5 (Dense)              (None, 2)                 10        \n",
            "_________________________________________________________________\n",
            "dense_6 (Dense)              (None, 1)                 3         \n",
            "=================================================================\n",
            "Total params: 3,168\n",
            "Trainable params: 3,168\n",
            "Non-trainable params: 0\n",
            "_________________________________________________________________\n"
          ]
        }
      ]
    },
    {
      "cell_type": "code",
      "metadata": {
        "id": "B6RKUI2hute_"
      },
      "source": [
        "nn_reg.compile(optimizer='rmsprop', loss='categorical_crossentropy', metrics=[\"accuracy\"])"
      ],
      "execution_count": 22,
      "outputs": []
    },
    {
      "cell_type": "code",
      "metadata": {
        "colab": {
          "base_uri": "https://localhost:8080/"
        },
        "id": "kDPXP1zPwYeh",
        "outputId": "ac346374-efb7-4576-beb3-e0e2394133d5"
      },
      "source": [
        "print(y_train)"
      ],
      "execution_count": 23,
      "outputs": [
        {
          "output_type": "stream",
          "name": "stdout",
          "text": [
            "5449439     True\n",
            "8830490     True\n",
            "3355162     True\n",
            "10540288    True\n",
            "6128596     True\n",
            "            ... \n",
            "2103109     True\n",
            "529588      True\n",
            "3358043     True\n",
            "4188317     True\n",
            "9493185     True\n",
            "Name: playDirection, Length: 7155316, dtype: bool\n"
          ]
        }
      ]
    },
    {
      "cell_type": "code",
      "metadata": {
        "colab": {
          "base_uri": "https://localhost:8080/"
        },
        "id": "Hx-WjnhdtxaQ",
        "outputId": "33525d31-d0e1-4acf-bfb6-fd50c92cc04d"
      },
      "source": [
        "nn_reg.fit(X_train, y_train, validation_data=(X_val,y_val),epochs=5, batch_size=1000)"
      ],
      "execution_count": 25,
      "outputs": [
        {
          "output_type": "stream",
          "name": "stdout",
          "text": [
            "Epoch 1/5\n",
            "7156/7156 [==============================] - 24s 3ms/step - loss: 0.0000e+00 - accuracy: 1.0000 - val_loss: 0.0000e+00 - val_accuracy: 1.0000\n",
            "Epoch 2/5\n",
            "7156/7156 [==============================] - 23s 3ms/step - loss: 0.0000e+00 - accuracy: 1.0000 - val_loss: 0.0000e+00 - val_accuracy: 1.0000\n",
            "Epoch 3/5\n",
            "7156/7156 [==============================] - 23s 3ms/step - loss: 0.0000e+00 - accuracy: 1.0000 - val_loss: 0.0000e+00 - val_accuracy: 1.0000\n",
            "Epoch 4/5\n",
            "7156/7156 [==============================] - 23s 3ms/step - loss: 0.0000e+00 - accuracy: 1.0000 - val_loss: 0.0000e+00 - val_accuracy: 1.0000\n",
            "Epoch 5/5\n",
            "7156/7156 [==============================] - 23s 3ms/step - loss: 0.0000e+00 - accuracy: 1.0000 - val_loss: 0.0000e+00 - val_accuracy: 1.0000\n"
          ]
        },
        {
          "output_type": "execute_result",
          "data": {
            "text/plain": [
              "<keras.callbacks.History at 0x7f8d60129ed0>"
            ]
          },
          "metadata": {},
          "execution_count": 25
        }
      ]
    },
    {
      "cell_type": "code",
      "metadata": {
        "colab": {
          "base_uri": "https://localhost:8080/",
          "height": 864
        },
        "id": "KqIdD87o1BKO",
        "outputId": "c552898c-da0c-4e5a-90d1-65bc7f27c372"
      },
      "source": [
        "tf.keras.utils.plot_model(nn_reg, show_shapes=True)\n"
      ],
      "execution_count": 27,
      "outputs": [
        {
          "output_type": "execute_result",
          "data": {
            "image/png": "[encoded data removed]",
            "text/plain": [
              "<IPython.core.display.Image object>"
            ]
          },
          "metadata": {},
          "execution_count": 27
        }
      ]
    },
    {
      "cell_type": "code",
      "metadata": {
        "colab": {
          "base_uri": "https://localhost:8080/",
          "height": 283
        },
        "id": "ykb-0Tsv1BwB",
        "outputId": "dac7ecd9-d484-467c-c274-6334be8a768e"
      },
      "source": [
        "\n",
        "losses = pd.DataFrame(nn_reg.history.history)\n",
        "losses.plot()\n"
      ],
      "execution_count": 28,
      "outputs": [
        {
          "output_type": "execute_result",
          "data": {
            "text/plain": [
              "<matplotlib.axes._subplots.AxesSubplot at 0x7f8d60080e50>"
            ]
          },
          "metadata": {},
          "execution_count": 28
        },
        {
          "output_type": "display_data",
          "data": {
            "image/png": "[encoded data removed]",
            "text/plain": [
              "<Figure size 432x288 with 1 Axes>"
            ]
          },
          "metadata": {
            "needs_background": "light"
          }
        }
      ]
    },
    {
      "cell_type": "markdown",
      "metadata": {
        "id": "4qEWOhsJ1vvk"
      },
      "source": [
        "<font color = red> <b> This surely is an overfit data, however we can further use the logic to combine multiple NN to drive at an outcome after the target variable is decied. \n",
        "\n",
        "\n",
        "we can futher feature engineer other sets and find out the best possible combination of NN to give out the desired output. "
      ]
    },
    {
      "cell_type": "code",
      "metadata": {
        "id": "feZJ_M822L9c"
      },
      "source": [
        ""
      ],
      "execution_count": null,
      "outputs": []
    }
  ]
}